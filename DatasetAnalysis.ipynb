{
 "cells": [
  {
   "cell_type": "code",
   "execution_count": 4,
   "id": "f380ee54",
   "metadata": {},
   "outputs": [
    {
     "data": {
      "image/png": "[encoded data removed]",
      "text/plain": [
       "<Figure size 1080x576 with 1 Axes>"
      ]
     },
     "metadata": {
      "needs_background": "light"
     },
     "output_type": "display_data"
    }
   ],
   "source": [
    "import pandas as pd\n",
    "import matplotlib.pyplot as plt\n",
    "\n",
    "file_path = r\"C:\\Users\\Owner\\Desktop\\sample_smells_dataset.csv\"\n",
    "df = pd.read_csv(file_path)\n",
    "\n",
    "#Checking the Frequency of each present Smell\n",
    "\n",
    "smell_counts = df[\"Smell\"].value_counts()\n",
    "\n",
    "# Plot the bar chart\n",
    "plt.figure(figsize=(15, 8))\n",
    "ax = smell_counts.plot(kind=\"bar\")\n",
    "\n",
    "plt.xlabel(\"Smell\")\n",
    "plt.ylabel(\"Frequency\")\n",
    "plt.title(\"Frequency of Smells\")\n",
    "\n",
    "# Display the number of each smell\n",
    "for i, count in enumerate(smell_counts):\n",
    "    ax.text(i, count + 1, str(count), ha=\"center\", color=\"black\")\n",
    "\n",
    "plt.show()"
   ]
  },
  {
   "cell_type": "code",
   "execution_count": 5,
   "id": "f9a68c60",
   "metadata": {},
   "outputs": [
    {
     "name": "stdout",
     "output_type": "stream",
     "text": [
      "Total number of files: 850\n",
      "Total number of empty files: 0\n"
     ]
    }
   ],
   "source": [
    "import os\n",
    "\n",
    "folder_path = \"~/Desktop/DatasetFiles\"  # Replace with the actual path to the folder\n",
    "\n",
    "# Get the absolute path of the folder\n",
    "folder_path = os.path.expanduser(folder_path)\n",
    "folder_path = os.path.abspath(folder_path)\n",
    "\n",
    "# Initialize counters and empty file list\n",
    "total_files = 0\n",
    "empty_files = 0\n",
    "empty_file_list = []\n",
    "\n",
    "# Iterate through the files in the folder\n",
    "for file_name in os.listdir(folder_path):\n",
    "    if file_name.endswith((\".js\",\".tsx\",\".jsx\")):\n",
    "        file_path = os.path.join(folder_path, file_name)\n",
    "\n",
    "        # Check if the file is empty\n",
    "        if os.path.getsize(file_path) == 0:\n",
    "            empty_files += 1\n",
    "            empty_file_list.append(file_name)\n",
    "        \n",
    "        total_files += 1\n",
    "\n",
    "# Print the results\n",
    "print(f\"Total number of files: {total_files}\")\n",
    "print(f\"Total number of empty files: {empty_files}\")\n",
    "\n",
    "if empty_files > 0:\n",
    "    print(\"Empty files:\")\n",
    "    for empty_file in empty_file_list:\n",
    "        print(empty_file)\n"
   ]
  },
  {
   "cell_type": "code",
   "execution_count": 6,
   "id": "536b49b8",
   "metadata": {},
   "outputs": [
    {
     "name": "stdout",
     "output_type": "stream",
     "text": [
      "Enter the Row Number: 850\n",
      "const CrossFilterTag = (props: {\n",
      "    filter: CrossFilterIndicator;\n",
      "    orientation: FilterBarOrientation;\n",
      "    removeCrossFilter: (filterId: number) => void;\n",
      "  }) => {\n",
      "    const { filter, orientation, removeCrossFilter } = props;\n",
      "    const theme = useTheme();\n",
      "    const [columnRef, columnIsTruncated] =\n",
      "      useCSSTextTruncation<HTMLSpanElement>();\n",
      "    const [valueRef, valueIsTruncated] = useCSSTextTruncation<HTMLSpanElement>();\n",
      "  \n",
      "    const columnLabel = getColumnLabel(filter.column ?? '');\n",
      "    return (\n",
      "      <StyledTag\n",
      "        css={css`\n",
      "          ${orientation === FilterBarOrientation.VERTICAL\n",
      "            ? `\n",
      "              margin-top: ${theme.gridUnit * 2}px;\n",
      "            `\n",
      "            : `\n",
      "              margin-left: ${theme.gridUnit * 2}px;\n",
      "            `}\n",
      "        `}\n",
      "        closable\n",
      "        onClose={() => removeCrossFilter(filter.emitterId)}\n",
      "      >\n",
      "        <Tooltip title={columnIsTruncated ? columnLabel : null}>\n",
      "          <StyledCrossFilterColumn ref={columnRef}>\n",
      "            {columnLabel}\n",
      "          </StyledCrossFilterColumn>\n",
      "        </Tooltip>\n",
      "        <Tooltip title={valueIsTruncated ? filter.value : null}>\n",
      "          <StyledCrossFilterValue ref={valueRef}>\n",
      "            {filter.value}\n",
      "          </StyledCrossFilterValue>\n",
      "        </Tooltip>\n",
      "      </StyledTag>\n",
      "    );\n",
      "  };\n"
     ]
    }
   ],
   "source": [
    "#Output Code Snippet\n",
    "\n",
    "import pandas as pd\n",
    "\n",
    "# Read the CSV file\n",
    "file_path = r\"C:\\Users\\Owner\\Desktop\\sample_smells_dataset.csv\"\n",
    "df = pd.read_csv(file_path)\n",
    "\n",
    "# Ask the user for the row number\n",
    "row_number = int(input(\"Enter the Row Number: \"))\n",
    "\n",
    "# Check if the row number is valid\n",
    "if row_number >= 1 and row_number <= len(df):\n",
    "    # Get the path from the 'FPath' column for the specified row\n",
    "    fpath = df.loc[row_number - 1, 'FPath']\n",
    "\n",
    "    # Read the code from the file\n",
    "    with open(fpath, \"r\") as file:\n",
    "        code_lines = file.readlines()\n",
    "\n",
    "    # Print the code\n",
    "    print(\"\".join(code_lines))\n",
    "else:\n",
    "    print(\"Invalid row number.\")\n"
   ]
  },
  {
   "cell_type": "code",
   "execution_count": null,
   "id": "eaee3fc4",
   "metadata": {},
   "outputs": [],
   "source": []
  }
 ],
 "metadata": {
  "kernelspec": {
   "display_name": "Python 3 (ipykernel)",
   "language": "python",
   "name": "python3"
  },
  "language_info": {
   "codemirror_mode": {
    "name": "ipython",
    "version": 3
   },
   "file_extension": ".py",
   "mimetype": "text/x-python",
   "name": "python",
   "nbconvert_exporter": "python",
   "pygments_lexer": "ipython3",
   "version": "3.9.7"
  }
 },
 "nbformat": 4,
 "nbformat_minor": 5
}
